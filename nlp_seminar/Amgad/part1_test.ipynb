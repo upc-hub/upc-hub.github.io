{
 "cells": [
  {
   "cell_type": "markdown",
   "id": "51d76e3a",
   "metadata": {},
   "source": [
    "# 📝 Part 1: Amgad Testing Notebook"
   ]
  },
  {
   "cell_type": "markdown",
   "id": "10ef4a0d",
   "metadata": {},
   "source": [
    "This notebook is provided for you to try out what you've learned in **Part 1: Introduction to NLP**.\n",
    "\n",
    "Feel free to write your own code, experiment with tokenization, and explore basic NLP concepts.\n",
    "\n",
    "---\n",
    "\n",
    "## 📌 Example Cell (You can delete or modify it):"
   ]
  },
  {
   "cell_type": "code",
   "execution_count": null,
   "id": "8a6a2219",
   "metadata": {},
   "outputs": [],
   "source": [
    "# Try simple tokenization or any NLP code here!\n",
    "\n",
    "text = \"This is a simple test sentence.\"\n",
    "tokens = text.split()\n",
    "print(\"Tokens:\", tokens)"
   ]
  },
  {
   "cell_type": "markdown",
   "id": "9e7b278d",
   "metadata": {},
   "source": [
    "## ✅ Continue experimenting below:"
   ]
  }
 ],
 "metadata": {
  "language_info": {
   "name": "python"
  }
 },
 "nbformat": 4,
 "nbformat_minor": 5
}
