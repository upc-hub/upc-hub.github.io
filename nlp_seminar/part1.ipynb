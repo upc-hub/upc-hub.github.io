{
  "cells": [
    {
      "cell_type": "markdown",
      "id": "6cb418c6",
      "metadata": {
        "id": "6cb418c6"
      },
      "source": [
        "# 📖 Part 1: Introduction to NLP"
      ]
    },
    {
      "cell_type": "markdown",
      "id": "a5a0d5ae",
      "metadata": {
        "id": "a5a0d5ae"
      },
      "source": [
        "Welcome to the Introduction to Natural Language Processing (NLP). In this section, we will explore the fundamental concepts and real-world applications of NLP.\n",
        "___"
      ]
    },
    {
      "cell_type": "markdown",
      "id": "409055d5",
      "metadata": {
        "id": "409055d5"
      },
      "source": [
        "## 🧩 What is NLP?\n",
        "Natural Language Processing (NLP) is a branch of Artificial Intelligence (AI) that focuses on the interaction between computers and human languages. It involves the ability of computers to understand, interpret, and generate human language.\n",
        "___"
      ]
    },
    {
      "cell_type": "markdown",
      "id": "88702595",
      "metadata": {
        "id": "88702595"
      },
      "source": [
        "## 🌍 Common NLP Applications\n",
        "- Machine Translation (e.g., Google Translate)\n",
        "- Sentiment Analysis (e.g., Product Reviews)\n",
        "- Chatbots (e.g., Customer Support Bots)\n",
        "- Text Summarization\n",
        "- Named Entity Recognition (NER)\n",
        "- Speech Recognition\n",
        "___"
      ]
    },
    {
      "cell_type": "markdown",
      "id": "62659727",
      "metadata": {
        "id": "62659727"
      },
      "source": [
        "## 📚 Basic Terminologies\n",
        "- **Tokenization**: Splitting text into smaller units like words or sentences.\n",
        "- **Stemming**: Reducing words to their root form (e.g., 'running' → 'run').\n",
        "- **Lemmatization**: Reducing words to their base or dictionary form.\n",
        "- **Stop Words**: Common words that are usually removed (e.g., 'the', 'is', 'in').\n",
        "- **NER (Named Entity Recognition)**: Identifying names of people, organizations, locations, etc.\n",
        "___"
      ]
    },
    {
      "cell_type": "markdown",
      "id": "60eb3545",
      "metadata": {
        "id": "60eb3545"
      },
      "source": [
        "## 💻 Sample Code: Tokenization with NLTK"
      ]
    },
    {
      "cell_type": "code",
      "execution_count": null,
      "id": "96e7faa9",
      "metadata": {
        "id": "96e7faa9"
      },
      "outputs": [],
      "source": [
        "import nltk\n",
        "nltk.download('punkt')\n",
        "from nltk.tokenize import word_tokenize\n",
        "\n",
        "text = \"Natural Language Processing is fascinating!\"\n",
        "tokens = word_tokenize(text)\n",
        "print(\"Tokens:\", tokens)"
      ]
    },
    {
      "cell_type": "markdown",
      "id": "ccdf5ab5",
      "metadata": {
        "id": "ccdf5ab5"
      },
      "source": [
        "___\n",
        "## ✅ Next Steps\n",
        "Proceed to Part 2: Tokenization & Embeddings to explore how we can represent text data for machine learning models.\n",
        "___"
      ]
    }
  ],
  "metadata": {
    "language_info": {
      "name": "python"
    },
    "colab": {
      "provenance": []
    }
  },
  "nbformat": 4,
  "nbformat_minor": 5
}