{
 "cells": [
  {
   "cell_type": "markdown",
   "id": "7e9fee9a",
   "metadata": {},
   "source": [
    "# 📖 Part 5: Knowledge Graph + LLM"
   ]
  },
  {
   "cell_type": "markdown",
   "id": "05212d68",
   "metadata": {},
   "source": [
    "In this final part, we will explore how integrating Knowledge Graphs (KGs) with Large Language Models (LLMs) can enhance reasoning, inference, and knowledge retrieval capabilities.\n",
    "___"
   ]
  },
  {
   "cell_type": "markdown",
   "id": "e06343b7",
   "metadata": {},
   "source": [
    "## 🧠 What is a Knowledge Graph?\n",
    "A Knowledge Graph is a structured representation of real-world entities and their relationships, organized as nodes and edges in a graph.\n",
    "\n",
    "**Examples:**\n",
    "- Google Knowledge Graph\n",
    "- Wikidata\n",
    "- Domain-specific graphs (e.g., Medical Knowledge Graphs)\n",
    "___"
   ]
  },
  {
   "cell_type": "markdown",
   "id": "4d7ddda8",
   "metadata": {},
   "source": [
    "## 🔗 Why Integrate KG with LLM?\n",
    "- Improve factual accuracy of generated answers.\n",
    "- Provide structured context and background knowledge.\n",
    "- Enable complex reasoning over interconnected data.\n",
    "___"
   ]
  },
  {
   "cell_type": "markdown",
   "id": "6965b9aa",
   "metadata": {},
   "source": [
    "## 🗂️ Example: Querying a Simple Knowledge Graph with NetworkX"
   ]
  },
  {
   "cell_type": "code",
   "execution_count": null,
   "id": "c54bec7d",
   "metadata": {},
   "outputs": [],
   "source": [
    "import networkx as nx\n",
    "\n",
    "# Create a simple Knowledge Graph\n",
    "G = nx.Graph()\n",
    "G.add_edges_from([\n",
    "    (\"Machine Learning\", \"Supervised Learning\"),\n",
    "    (\"Machine Learning\", \"Unsupervised Learning\"),\n",
    "    (\"Supervised Learning\", \"Regression\"),\n",
    "    (\"Supervised Learning\", \"Classification\"),\n",
    "    (\"Unsupervised Learning\", \"Clustering\"),\n",
    "])\n",
    "\n",
    "# Query: What topics are connected to Supervised Learning?\n",
    "connections = list(G.neighbors(\"Supervised Learning\"))\n",
    "print(\"Topics related to Supervised Learning:\", connections)"
   ]
  },
  {
   "cell_type": "markdown",
   "id": "f87b678f",
   "metadata": {},
   "source": [
    "___\n",
    "## 🚀 Combining KG Insights with LLMs\n",
    "In real applications, outputs from the Knowledge Graph can be used as additional context for language models to generate more accurate and relevant responses."
   ]
  },
  {
   "cell_type": "markdown",
   "id": "1e35bddd",
   "metadata": {},
   "source": [
    "\n",
    "### 💡 Example Use Case:\n",
    "> **User:** \"Tell me about techniques under Supervised Learning.\"\n",
    "\n",
    "> **KG Result:** ['Regression', 'Classification']\n",
    "\n",
    "> **LLM Response:** \"Supervised Learning includes techniques such as Regression, used for predicting continuous values, and Classification, used for categorizing data into classes.\""
   ]
  },
  {
   "cell_type": "markdown",
   "id": "d91ad43c",
   "metadata": {},
   "source": [
    "___\n",
    "## 🎉 Congratulations!\n",
    "You have completed the NLP Hands-on Seminar. We hope you now have a better understanding of NLP techniques, language models, and how to extend them with external knowledge sources like Knowledge Graphs.\n",
    "\n",
    "Good luck with your NLP projects! 🚀\n",
    "___"
   ]
  }
 ],
 "metadata": {
  "language_info": {
   "name": "python"
  }
 },
 "nbformat": 4,
 "nbformat_minor": 5
}
