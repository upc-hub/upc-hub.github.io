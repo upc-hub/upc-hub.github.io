{
 "cells": [
  {
   "cell_type": "markdown",
   "id": "594096ed",
   "metadata": {},
   "source": [
    "# 📝 Part 2: Hein Testing Notebook"
   ]
  },
  {
   "cell_type": "markdown",
   "id": "c2415a1c",
   "metadata": {},
   "source": [
    "This notebook is provided for you to try out what you've learned in **Part 2: Tokenization & Embeddings**.\n",
    "\n",
    "You can experiment with tokenization techniques and explore different embeddings.\n",
    "\n",
    "---\n",
    "\n",
    "## 📌 Example Cell (You can delete or modify it):"
   ]
  },
  {
   "cell_type": "code",
   "execution_count": null,
   "id": "07f52aba",
   "metadata": {},
   "outputs": [],
   "source": [
    "import nltk\n",
    "nltk.download('punkt')\n",
    "from nltk.tokenize import word_tokenize\n",
    "\n",
    "text = \"Try experimenting with tokenization methods here!\"\n",
    "tokens = word_tokenize(text)\n",
    "print(\"Tokens:\", tokens)"
   ]
  },
  {
   "cell_type": "markdown",
   "id": "3256ab69",
   "metadata": {},
   "source": [
    "## ✅ Continue experimenting below:"
   ]
  }
 ],
 "metadata": {
  "language_info": {
   "name": "python"
  }
 },
 "nbformat": 4,
 "nbformat_minor": 5
}
