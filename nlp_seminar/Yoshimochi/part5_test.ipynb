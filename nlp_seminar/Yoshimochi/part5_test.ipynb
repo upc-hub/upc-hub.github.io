{
 "cells": [
  {
   "cell_type": "markdown",
   "id": "9f8e0df4",
   "metadata": {},
   "source": [
    "# 📝 Part 5: Yoshimochi Testing Notebook"
   ]
  },
  {
   "cell_type": "markdown",
   "id": "45769a06",
   "metadata": {},
   "source": [
    "This notebook is provided for you to try out what you've learned in **Part 5: Knowledge Graph + LLM**.\n",
    "\n",
    "You can experiment with creating simple knowledge graphs and integrating them with language models.\n",
    "\n",
    "---\n",
    "\n",
    "## 📌 Example Cell (You can delete or modify it):"
   ]
  },
  {
   "cell_type": "code",
   "execution_count": null,
   "id": "a9bd43de",
   "metadata": {},
   "outputs": [],
   "source": [
    "import networkx as nx\n",
    "import matplotlib.pyplot as plt\n",
    "\n",
    "# Create a simple Knowledge Graph\n",
    "G = nx.Graph()\n",
    "G.add_edges_from([\n",
    "    (\"NLP\", \"Tokenization\"),\n",
    "    (\"NLP\", \"Embeddings\"),\n",
    "    (\"Embeddings\", \"Word2Vec\"),\n",
    "    (\"Embeddings\", \"BERT\"),\n",
    "    (\"Knowledge Graph\", \"Entities\"),\n",
    "    (\"Knowledge Graph\", \"Relationships\")\n",
    "])\n",
    "\n",
    "# Visualize the Knowledge Graph\n",
    "plt.figure(figsize=(8,6))\n",
    "nx.draw(G, with_labels=True, node_color='lightblue', node_size=2000, font_size=12, font_weight='bold')\n",
    "plt.show()"
   ]
  },
  {
   "cell_type": "markdown",
   "id": "ea4e2466",
   "metadata": {},
   "source": [
    "## ✅ Continue experimenting below:"
   ]
  }
 ],
 "metadata": {
  "language_info": {
   "name": "python"
  }
 },
 "nbformat": 4,
 "nbformat_minor": 5
}
