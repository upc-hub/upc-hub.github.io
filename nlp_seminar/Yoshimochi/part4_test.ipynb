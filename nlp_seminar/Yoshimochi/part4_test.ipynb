{
 "cells": [
  {
   "cell_type": "markdown",
   "id": "1bc4bbd7",
   "metadata": {},
   "source": [
    "# 📝 Part 4: Student Testing Notebook"
   ]
  },
  {
   "cell_type": "markdown",
   "id": "d2221017",
   "metadata": {},
   "source": [
    "This notebook is provided for you to try out what you've learned in **Part 4: Retrieval-Augmented Generation (RAG)**.\n",
    "\n",
    "You can experiment with retrieval mechanisms and try generating answers using retrieved content.\n",
    "\n",
    "---\n",
    "\n",
    "## 📌 Example Cell (You can delete or modify it):"
   ]
  },
  {
   "cell_type": "code",
   "execution_count": null,
   "id": "37ab8d17",
   "metadata": {},
   "outputs": [],
   "source": [
    "from transformers import RagTokenizer, RagRetriever, RagSequenceForGeneration\n",
    "\n",
    "# Load RAG tokenizer and model (this is a demonstration; requires internet and resources)\n",
    "tokenizer = RagTokenizer.from_pretrained(\"facebook/rag-token-base\")\n",
    "retriever = RagRetriever.from_pretrained(\"facebook/rag-token-base\", index_name=\"exact\")\n",
    "model = RagSequenceForGeneration.from_pretrained(\"facebook/rag-token-base\", retriever=retriever)\n",
    "\n",
    "question = \"What is machine learning?\"\n",
    "inputs = tokenizer(question, return_tensors=\"pt\")\n",
    "generated = model.generate(**inputs)\n",
    "answer = tokenizer.batch_decode(generated, skip_special_tokens=True)[0]\n",
    "print(\"Answer:\", answer)"
   ]
  },
  {
   "cell_type": "markdown",
   "id": "e76204ff",
   "metadata": {},
   "source": [
    "## ✅ Continue experimenting below:"
   ]
  }
 ],
 "metadata": {},
 "nbformat": 4,
 "nbformat_minor": 5
}
