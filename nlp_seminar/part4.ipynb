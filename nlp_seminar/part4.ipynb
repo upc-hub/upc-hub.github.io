{
 "cells": [
  {
   "cell_type": "markdown",
   "id": "29a560a3",
   "metadata": {},
   "source": [
    "# 📖 Part 4: Retrieval-Augmented Generation (RAG)"
   ]
  },
  {
   "cell_type": "markdown",
   "id": "66bdec9d",
   "metadata": {},
   "source": [
    "In this section, we will learn about Retrieval-Augmented Generation (RAG), a powerful technique that combines language models with external knowledge sources to improve response accuracy."
   ]
  },
  {
   "cell_type": "markdown",
   "id": "27dff06b",
   "metadata": {},
   "source": [
    "## 📖 What is RAG?\n",
    "RAG combines a retriever model that searches for relevant documents and a generator model that creates answers using both the retrieved documents and the original query.\n",
    "\n",
    "**Key Benefits:**\n",
    "- Helps overcome the limitations of LLMs' internal knowledge.\n",
    "- Provides accurate and up-to-date information.\n",
    "- Suitable for tasks like question answering and knowledge-based chatbots."
   ]
  },
  {
   "cell_type": "markdown",
   "id": "d5e4effa",
   "metadata": {},
   "source": [
    "## 🗂️ Components of RAG\n",
    "- **Retriever**: Finds relevant documents (e.g., using BM25, FAISS, or Dense Retrieval).\n",
    "- **Generator**: Generates responses based on retrieved content (e.g., BART, GPT)."
   ]
  },
  {
   "cell_type": "markdown",
   "id": "5d09cdc4",
   "metadata": {},
   "source": [
    "### 💻 Example: Using Hugging Face Transformers to Load a RAG Model"
   ]
  },
  {
   "cell_type": "code",
   "execution_count": null,
   "id": "bfc17bad",
   "metadata": {},
   "outputs": [],
   "source": [
    "from transformers import RagTokenizer, RagRetriever, RagSequenceForGeneration\n",
    "\n",
    "# Load pretrained RAG model and tokenizer\n",
    "tokenizer = RagTokenizer.from_pretrained(\"facebook/rag-token-base\")\n",
    "retriever = RagRetriever.from_pretrained(\"facebook/rag-token-base\", index_name=\"exact\")\n",
    "model = RagSequenceForGeneration.from_pretrained(\"facebook/rag-token-base\", retriever=retriever)\n",
    "\n",
    "# Example Query\n",
    "question = \"What is the capital of Japan?\"\n",
    "inputs = tokenizer(question, return_tensors=\"pt\")\n",
    "\n",
    "# Generate Answer\n",
    "generated = model.generate(**inputs)\n",
    "answer = tokenizer.batch_decode(generated, skip_special_tokens=True)[0]\n",
    "print(\"Answer:\", answer)"
   ]
  },
  {
   "cell_type": "markdown",
   "id": "0f3b6823",
   "metadata": {},
   "source": [
    "📌 **Note**: This example loads a pre-trained RAG model. Fine-tuning your own retriever and generator would require significant resources."
   ]
  },
  {
   "cell_type": "markdown",
   "id": "81eceff0",
   "metadata": {},
   "source": [
    "## ✅ Next Steps\n",
    "Proceed to Part 5: Knowledge Graph + LLM to learn how structured knowledge can enhance language model capabilities."
   ]
  }
 ],
 "metadata": {},
 "nbformat": 4,
 "nbformat_minor": 5
}
